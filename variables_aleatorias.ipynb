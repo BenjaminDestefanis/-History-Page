{
  "nbformat": 4,
  "nbformat_minor": 0,
  "metadata": {
    "colab": {
      "provenance": [],
      "authorship_tag": "ABX9TyPSQzfMXyhQSPk+cjprhBoW",
      "include_colab_link": true
    },
    "kernelspec": {
      "name": "python3",
      "display_name": "Python 3"
    },
    "language_info": {
      "name": "python"
    }
  },
  "cells": [
    {
      "cell_type": "markdown",
      "metadata": {
        "id": "view-in-github",
        "colab_type": "text"
      },
      "source": [
        "<a href=\"https://colab.research.google.com/github/BenjaminDestefanis/-History-Page/blob/main/variables_aleatorias.ipynb\" target=\"_parent\"><img src=\"https://colab.research.google.com/assets/colab-badge.svg\" alt=\"Open In Colab\"/></a>"
      ]
    },
    {
      "cell_type": "markdown",
      "source": [
        "# **VARIABLES ALEATORIAS** 🤭"
      ],
      "metadata": {
        "id": "OmPQuZFJFyao"
      }
    },
    {
      "cell_type": "code",
      "execution_count": null,
      "metadata": {
        "id": "s7-U6QlCFioH"
      },
      "outputs": [],
      "source": [
        "import numpy as np\n",
        "import matplotlib.pyplot as plt\n",
        "\n",
        "numero_lanzamientos = 9000\n",
        "\n",
        "lanzamientos = np.random.randint(1, 7, numero_lanzamientos)\n",
        "\n",
        "print(np.random.default_rng)\n",
        "\n",
        "frecuencia, caras = np.unique(lanzamientos, return_counts=True)\n",
        "\n",
        "#print(numero_lanzamientos)"
      ]
    }
  ]
}